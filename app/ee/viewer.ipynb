{
 "cells": [
  {
   "cell_type": "code",
   "execution_count": 2,
   "metadata": {},
   "outputs": [],
   "source": [
    "import sys\n",
    "work_path = \"/home/haselab/Documents/tat/Research/\"\n",
    "sys.path.append(f\"{work_path}app/torch_libs/\")\n",
    "\n",
    "from run_manager import RunManager, RunsManager, RunViewer\n"
   ]
  },
  {
   "cell_type": "code",
   "execution_count": 3,
   "metadata": {},
   "outputs": [
    {
     "ename": "FileNotFoundError",
     "evalue": "[Errno 2] No such file or directory: '/home/haselab/Documents/tat/Research/app/ee/tmp'",
     "output_type": "error",
     "traceback": [
      "\u001b[0;31m---------------------------------------------------------------------------\u001b[0m",
      "\u001b[0;31mFileNotFoundError\u001b[0m                         Traceback (most recent call last)",
      "Cell \u001b[0;32mIn[3], line 2\u001b[0m\n\u001b[1;32m      1\u001b[0m rv \u001b[38;5;241m=\u001b[39m RunViewer(exc_path\u001b[38;5;241m=\u001b[39m\u001b[38;5;124m\"\u001b[39m\u001b[38;5;124m__file__\u001b[39m\u001b[38;5;124m\"\u001b[39m)\n\u001b[0;32m----> 2\u001b[0m df_res \u001b[38;5;241m=\u001b[39m rv\u001b[38;5;241m.\u001b[39mfetch_stats()\n\u001b[1;32m      4\u001b[0m df_res\u001b[38;5;241m.\u001b[39mwrite_csv(\u001b[38;5;124m\"\u001b[39m\u001b[38;5;124m./exp_tmp\u001b[39m\u001b[38;5;124m\"\u001b[39m)\n",
      "File \u001b[0;32m~/Documents/tat/Research/app/torch_libs/run_manager.py:198\u001b[0m, in \u001b[0;36mRunViewer.fetch_stats\u001b[0;34m(self)\u001b[0m\n\u001b[1;32m    197\u001b[0m \u001b[38;5;28;01mdef\u001b[39;00m \u001b[38;5;21mfetch_stats\u001b[39m(\u001b[38;5;28mself\u001b[39m):\n\u001b[0;32m--> 198\u001b[0m     dir_names \u001b[38;5;241m=\u001b[39m \u001b[38;5;28mlist\u001b[39m(\u001b[38;5;28mself\u001b[39m\u001b[38;5;241m.\u001b[39mexp_path\u001b[38;5;241m.\u001b[39miterdir())\n\u001b[1;32m    199\u001b[0m     run_ids \u001b[38;5;241m=\u001b[39m [\u001b[38;5;28mint\u001b[39m(dir_name\u001b[38;5;241m.\u001b[39mname) \u001b[38;5;28;01mfor\u001b[39;00m dir_name \u001b[38;5;129;01min\u001b[39;00m dir_names]\n\u001b[1;32m    200\u001b[0m     stats_paths \u001b[38;5;241m=\u001b[39m [dir_name \u001b[38;5;241m/\u001b[39m Path(\u001b[38;5;124m\"\u001b[39m\u001b[38;5;124mstats.csv\u001b[39m\u001b[38;5;124m\"\u001b[39m) \u001b[38;5;28;01mfor\u001b[39;00m dir_name \u001b[38;5;129;01min\u001b[39;00m dir_names]\n",
      "File \u001b[0;32m~/anaconda3/envs/tat/lib/python3.11/pathlib.py:931\u001b[0m, in \u001b[0;36mPath.iterdir\u001b[0;34m(self)\u001b[0m\n\u001b[1;32m    927\u001b[0m \u001b[38;5;28;01mdef\u001b[39;00m \u001b[38;5;21miterdir\u001b[39m(\u001b[38;5;28mself\u001b[39m):\n\u001b[1;32m    928\u001b[0m \u001b[38;5;250m    \u001b[39m\u001b[38;5;124;03m\"\"\"Iterate over the files in this directory.  Does not yield any\u001b[39;00m\n\u001b[1;32m    929\u001b[0m \u001b[38;5;124;03m    result for the special paths '.' and '..'.\u001b[39;00m\n\u001b[1;32m    930\u001b[0m \u001b[38;5;124;03m    \"\"\"\u001b[39;00m\n\u001b[0;32m--> 931\u001b[0m     \u001b[38;5;28;01mfor\u001b[39;00m name \u001b[38;5;129;01min\u001b[39;00m os\u001b[38;5;241m.\u001b[39mlistdir(\u001b[38;5;28mself\u001b[39m):\n\u001b[1;32m    932\u001b[0m         \u001b[38;5;28;01myield\u001b[39;00m \u001b[38;5;28mself\u001b[39m\u001b[38;5;241m.\u001b[39m_make_child_relpath(name)\n",
      "\u001b[0;31mFileNotFoundError\u001b[0m: [Errno 2] No such file or directory: '/home/haselab/Documents/tat/Research/app/ee/tmp'"
     ]
    }
   ],
   "source": [
    "rv = RunViewer(exp_path=\"/home/haselab/Documents/tat/Research/app/ee/exp_fil_data\")\n",
    "df_res = rv.fetch_stats()\n",
    "\n",
    "df_res.write_csv(\"/home/haselab/Documents/tat/Research/app/ee/tmp.csv\")\n"
   ]
  },
  {
   "cell_type": "code",
   "execution_count": null,
   "metadata": {},
   "outputs": [],
   "source": []
  }
 ],
 "metadata": {
  "kernelspec": {
   "display_name": "tat_fish",
   "language": "python",
   "name": "python3"
  },
  "language_info": {
   "codemirror_mode": {
    "name": "ipython",
    "version": 3
   },
   "file_extension": ".py",
   "mimetype": "text/x-python",
   "name": "python",
   "nbconvert_exporter": "python",
   "pygments_lexer": "ipython3",
   "version": "3.11.4"
  }
 },
 "nbformat": 4,
 "nbformat_minor": 2
}
