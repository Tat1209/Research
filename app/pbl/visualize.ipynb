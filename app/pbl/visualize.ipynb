{
 "cells": [
  {
   "cell_type": "code",
   "execution_count": 8,
   "metadata": {},
   "outputs": [],
   "source": [
    "import polars as pl\n",
    "import numpy as np\n",
    "from pathlib import Path\n",
    "import matplotlib.pyplot as plt\n",
    "import seaborn as sns\n",
    "\n",
    "import sys\n",
    "work_path = Path(next((p for p in Path(\"__file__\").resolve().parents if p.name == \"Research\"), None))\n",
    "torchlib_path = str(work_path / Path(\"app/torch_libs\"))\n",
    "sys.path.append(torchlib_path)\n",
    "\n",
    "from run_manager import RunManager, RunsManager, RunViewer\n"
   ]
  },
  {
   "cell_type": "code",
   "execution_count": 11,
   "metadata": {},
   "outputs": [
    {
     "data": {
      "text/html": [
       "<div><style>\n",
       ".dataframe > thead > tr,\n",
       ".dataframe > tbody > tr {\n",
       "  text-align: right;\n",
       "  white-space: pre-wrap;\n",
       "}\n",
       "</style>\n",
       "<small>shape: (5, 21)</small><table border=\"1\" class=\"dataframe\"><thead><tr><th>run_id</th><th>max_lr</th><th>epochs</th><th>batch_size</th><th>train_trans</th><th>val_trans</th><th>train_num</th><th>val_num</th><th>iters/epoch</th><th>dataset</th><th>model_arc</th><th>params</th><th>loss_func</th><th>optimizer</th><th>scheduler</th><th>lr</th><th>epoch</th><th>train_loss</th><th>train_acc</th><th>val_loss</th><th>val_acc</th></tr><tr><td>i64</td><td>f64</td><td>i64</td><td>i64</td><td>str</td><td>str</td><td>i64</td><td>i64</td><td>i64</td><td>str</td><td>str</td><td>i64</td><td>str</td><td>str</td><td>str</td><td>f64</td><td>i64</td><td>f64</td><td>f64</td><td>f64</td><td>f64</td></tr></thead><tbody><tr><td>0</td><td>0.001</td><td>3</td><td>128</td><td>&quot;[ToTensor(), RandomHorizontalF…</td><td>&quot;[ToTensor()]&quot;</td><td>60000</td><td>10000</td><td>469</td><td>&quot;mnist_train&quot;</td><td>&quot;models.resnet_1ch&quot;</td><td>11175370</td><td>&quot;CrossEntropyLoss()&quot;</td><td>&quot;Adam ( Parameter Group 0     a…</td><td>&quot;CosineAnnealingLR ( T_max = 3 …</td><td>0.00025</td><td>3</td><td>0.038851</td><td>0.935933</td><td>0.032927</td><td>0.9446</td></tr><tr><td>1</td><td>0.003</td><td>3</td><td>128</td><td>&quot;[ToTensor(), RandomHorizontalF…</td><td>&quot;[ToTensor()]&quot;</td><td>60000</td><td>10000</td><td>469</td><td>&quot;mnist_train&quot;</td><td>&quot;models.resnet_1ch&quot;</td><td>11175370</td><td>&quot;CrossEntropyLoss()&quot;</td><td>&quot;Adam ( Parameter Group 0     a…</td><td>&quot;CosineAnnealingLR ( T_max = 3 …</td><td>0.00075</td><td>3</td><td>0.041693</td><td>0.931883</td><td>0.041437</td><td>0.929</td></tr><tr><td>2</td><td>0.005</td><td>3</td><td>128</td><td>&quot;[ToTensor(), RandomHorizontalF…</td><td>&quot;[ToTensor()]&quot;</td><td>60000</td><td>10000</td><td>469</td><td>&quot;mnist_train&quot;</td><td>&quot;models.resnet_1ch&quot;</td><td>11175370</td><td>&quot;CrossEntropyLoss()&quot;</td><td>&quot;Adam ( Parameter Group 0     a…</td><td>&quot;CosineAnnealingLR ( T_max = 3 …</td><td>0.00125</td><td>3</td><td>0.044214</td><td>0.9284</td><td>0.040188</td><td>0.9319</td></tr><tr><td>3</td><td>0.01</td><td>3</td><td>128</td><td>&quot;[ToTensor(), RandomHorizontalF…</td><td>&quot;[ToTensor()]&quot;</td><td>60000</td><td>10000</td><td>469</td><td>&quot;mnist_train&quot;</td><td>&quot;models.resnet_1ch&quot;</td><td>11175370</td><td>&quot;CrossEntropyLoss()&quot;</td><td>&quot;Adam ( Parameter Group 0     a…</td><td>&quot;CosineAnnealingLR ( T_max = 3 …</td><td>0.0025</td><td>3</td><td>0.049984</td><td>0.917933</td><td>0.040133</td><td>0.9321</td></tr><tr><td>4</td><td>0.03</td><td>3</td><td>128</td><td>&quot;[ToTensor(), RandomHorizontalF…</td><td>&quot;[ToTensor()]&quot;</td><td>60000</td><td>10000</td><td>469</td><td>&quot;mnist_train&quot;</td><td>&quot;models.resnet_1ch&quot;</td><td>11175370</td><td>&quot;CrossEntropyLoss()&quot;</td><td>&quot;Adam ( Parameter Group 0     a…</td><td>&quot;CosineAnnealingLR ( T_max = 3 …</td><td>0.0075</td><td>3</td><td>0.051568</td><td>0.916433</td><td>0.066811</td><td>0.8895</td></tr></tbody></table></div>"
      ],
      "text/plain": [
       "shape: (5, 21)\n",
       "┌────────┬────────┬────────┬────────────┬───┬────────────┬───────────┬──────────┬─────────┐\n",
       "│ run_id ┆ max_lr ┆ epochs ┆ batch_size ┆ … ┆ train_loss ┆ train_acc ┆ val_loss ┆ val_acc │\n",
       "│ ---    ┆ ---    ┆ ---    ┆ ---        ┆   ┆ ---        ┆ ---       ┆ ---      ┆ ---     │\n",
       "│ i64    ┆ f64    ┆ i64    ┆ i64        ┆   ┆ f64        ┆ f64       ┆ f64      ┆ f64     │\n",
       "╞════════╪════════╪════════╪════════════╪═══╪════════════╪═══════════╪══════════╪═════════╡\n",
       "│ 0      ┆ 0.001  ┆ 3      ┆ 128        ┆ … ┆ 0.038851   ┆ 0.935933  ┆ 0.032927 ┆ 0.9446  │\n",
       "│ 1      ┆ 0.003  ┆ 3      ┆ 128        ┆ … ┆ 0.041693   ┆ 0.931883  ┆ 0.041437 ┆ 0.929   │\n",
       "│ 2      ┆ 0.005  ┆ 3      ┆ 128        ┆ … ┆ 0.044214   ┆ 0.9284    ┆ 0.040188 ┆ 0.9319  │\n",
       "│ 3      ┆ 0.01   ┆ 3      ┆ 128        ┆ … ┆ 0.049984   ┆ 0.917933  ┆ 0.040133 ┆ 0.9321  │\n",
       "│ 4      ┆ 0.03   ┆ 3      ┆ 128        ┆ … ┆ 0.051568   ┆ 0.916433  ┆ 0.066811 ┆ 0.8895  │\n",
       "└────────┴────────┴────────┴────────────┴───┴────────────┴───────────┴──────────┴─────────┘"
      ]
     },
     "metadata": {},
     "output_type": "display_data"
    }
   ],
   "source": [
    "exp_dir = \"exp_tmp\" \n",
    "# exp_dir = \"exp_pre1\" \n",
    "\n",
    "rv = RunViewer(exp_path=exp_dir)\n",
    "df_stats = rv.fetch_results()\n",
    "\n",
    "df_stats_ext = df_stats.filter(pl.col(\"\"))\n",
    "\n",
    "display(df_stats_ext)\n"
   ]
  },
  {
   "cell_type": "code",
   "execution_count": null,
   "metadata": {},
   "outputs": [],
   "source": []
  }
 ],
 "metadata": {
  "kernelspec": {
   "display_name": "tat_fish",
   "language": "python",
   "name": "python3"
  },
  "language_info": {
   "codemirror_mode": {
    "name": "ipython",
    "version": 3
   },
   "file_extension": ".py",
   "mimetype": "text/x-python",
   "name": "python",
   "nbconvert_exporter": "python",
   "pygments_lexer": "ipython3",
   "version": "3.11.5"
  }
 },
 "nbformat": 4,
 "nbformat_minor": 2
}
