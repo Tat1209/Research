{
 "cells": [
  {
   "cell_type": "code",
   "execution_count": 2,
   "metadata": {},
   "outputs": [],
   "source": [
    "import polars as pl\n",
    "from pathlib import Path"
   ]
  },
  {
   "cell_type": "code",
   "execution_count": 5,
   "metadata": {},
   "outputs": [],
   "source": [
    "path_total = Path(\"/home/haselab/Documents/tat/Research/app/sakana_ml/level4_pp/total.csv\")\n",
    "\n",
    "df = pl.read_csv(path_total, infer_schema_length=1000)\n",
    "\n",
    "        \n",
    "df = df.with_columns(\n",
    "    pl.when(pl.col(pl.Utf8) == \"?\")\n",
    "    .then(None)\n",
    "    .otherwise(pl.col(pl.Utf8))\n",
    "    .name.keep()\n",
    ")\n",
    "\n",
    "df.write_csv(\"./database.csv\")\n",
    "\n",
    "def re_infer_scheme(df):\n",
    "    fname_tmp = \"re_infer_tmp.csv\"\n",
    "    df.write_csv(fname_tmp)\n",
    "    df = pl.read_csv(fname_tmp, infer_schema_length=1000)\n",
    "    Path(fname_tmp).unlink(missing_ok=False)\n",
    "\n",
    "    return df\n",
    "        \n",
    "\n",
    "df = re_infer_scheme(df)\n",
    "\n",
    "\n",
    "\n"
   ]
  },
  {
   "cell_type": "code",
   "execution_count": 4,
   "metadata": {},
   "outputs": [],
   "source": [
    "with open(\"./tmp.txt\", \"w\") as f:\n",
    "    with pl.Config() as cfg:\n",
    "        cfg.set_tbl_rows(-1)\n",
    "        cfg.set_tbl_cols(-1)\n",
    "\n",
    "        non_null_counts = {col: [df[col].is_null().sum()] for col in df.columns}\n",
    "        # non_null_counts = {col: [df[col].is_not_null().sum()] for col in df.columns}\n",
    "        non_null_counts = pl.DataFrame(non_null_counts)\n",
    "        print(non_null_counts, file=f)\n",
    "        print(df, file=f)"
   ]
  }
 ],
 "metadata": {
  "kernelspec": {
   "display_name": "tat",
   "language": "python",
   "name": "python3"
  },
  "language_info": {
   "codemirror_mode": {
    "name": "ipython",
    "version": 3
   },
   "file_extension": ".py",
   "mimetype": "text/x-python",
   "name": "python",
   "nbconvert_exporter": "python",
   "pygments_lexer": "ipython3",
   "version": "3.11.4"
  }
 },
 "nbformat": 4,
 "nbformat_minor": 2
}
