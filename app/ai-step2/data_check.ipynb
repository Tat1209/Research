{
 "cells": [
  {
   "cell_type": "code",
   "execution_count": null,
   "metadata": {},
   "outputs": [],
   "source": [
    "import sys\n",
    "\n",
    "import torch\n",
    "\n",
    "work_path = \"/home/haselab/Documents/tat/Research/\"\n",
    "sys.path.append(f\"{work_path}app/torch_libs/\")\n",
    "\n",
    "from datasets import Datasets, dl\n",
    "from run_manager import RunManager, RunsManager\n",
    "from trainer import Model, MultiTrain\n",
    "from trans import Trans\n",
    "import utils\n"
   ]
  },
  {
   "cell_type": "code",
   "execution_count": null,
   "metadata": {},
   "outputs": [],
   "source": [
    "\n",
    "work_path = '/home/haselab/Documents/tat/Research/'\n",
    "ds = Datasets(root=f\"{work_path}assets/datasets/\")\n",
    "\n",
    "tmp_ds = ds(\"ai-step_l\")\n",
    "test_ds = ds(\"ai-step_ul\")\n",
    "loader = dl(tmp_ds, batch_size=5000)\n"
   ]
  },
  {
   "cell_type": "code",
   "execution_count": null,
   "metadata": {},
   "outputs": [],
   "source": [
    "import numpy as np\n",
    "from PIL import Image\n",
    "from pathlib import Path\n",
    "def ds_to_imgs(ds, num):\n",
    "    imgs = []\n",
    "    ds_it = iter(ds)\n",
    "    for _ in range(num):\n",
    "        img, label = next(ds_it)\n",
    "        img = np.array(img, dtype=np.uint8)\n",
    "        img = Image.fromarray(img)\n",
    "        imgs.append(img)\n",
    "        \n",
    "def ds_to_folder(ds, num, path):\n",
    "    path = Path(path)\n",
    "    path.mkdir(parents=True ,exist_ok=True)\n",
    "    ds_it = iter(ds)\n",
    "    for i in range(num):\n",
    "        img, label = next(ds_it)\n",
    "        img = np.array(img, dtype=np.uint8)\n",
    "        img = Image.fromarray(img)\n",
    "        img_name = f\"{i}_label.png\"\n",
    "        img.save(path / Path(img_name), format=\"png\")\n",
    "\n",
    "ds_to_folder(tmp_ds, 100, \"/home/haselab/Documents/tat/Research/app/ai-step2/train_imgs\")\n",
    "ds_to_folder(test_ds, 100, \"/home/haselab/Documents/tat/Research/app/ai-step2/test_imgs\")"
   ]
  }
 ],
 "metadata": {
  "language_info": {
   "name": "python"
  }
 },
 "nbformat": 4,
 "nbformat_minor": 2
}
