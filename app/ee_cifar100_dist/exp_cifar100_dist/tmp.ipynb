{
 "cells": [
  {
   "cell_type": "code",
   "execution_count": 4,
   "metadata": {},
   "outputs": [
    {
     "name": "stdout",
     "output_type": "stream",
     "text": [
      "shape: (600, 30)\n",
      "┌────────┬─────────────┬────────────┬────────────┬───┬───────────┬──────────┬─────────┬────────────┐\n",
      "│ run_id ┆ model_arc   ┆ train_data ┆ val_datase ┆ … ┆ train_acc ┆ val_loss ┆ val_acc ┆ rand_str   │\n",
      "│ ---    ┆ ---         ┆ set        ┆ t          ┆   ┆ ---       ┆ ---      ┆ ---     ┆ ---        │\n",
      "│ i64    ┆ str         ┆ ---        ┆ ---        ┆   ┆ f64       ┆ f64      ┆ f64     ┆ str        │\n",
      "│        ┆             ┆ str        ┆ str        ┆   ┆           ┆          ┆         ┆            │\n",
      "╞════════╪═════════════╪════════════╪════════════╪═══╪═══════════╪══════════╪═════════╪════════════╡\n",
      "│ 102    ┆ models.gitr ┆ cifar100_t ┆ cifar100_v ┆ … ┆ 0.6932    ┆ 0.190502 ┆ 0.578   ┆ mCYh9K6RM4 │\n",
      "│        ┆ esnet_ee    ┆ rain       ┆ al         ┆   ┆           ┆          ┆         ┆            │\n",
      "│        ┆ resnet18    ┆            ┆            ┆   ┆           ┆          ┆         ┆            │\n",
      "│ 103    ┆ models.gitr ┆ cifar100_t ┆ cifar100_v ┆ … ┆ 0.7942    ┆ 0.187129 ┆ 0.61    ┆ mCYh9K6RM4 │\n",
      "│        ┆ esnet_ee    ┆ rain       ┆ al         ┆   ┆           ┆          ┆         ┆            │\n",
      "│        ┆ resnet18    ┆            ┆            ┆   ┆           ┆          ┆         ┆            │\n",
      "│ 104    ┆ models.gitr ┆ cifar100_t ┆ cifar100_v ┆ … ┆ 0.8384    ┆ 0.193063 ┆ 0.617   ┆ mCYh9K6RM4 │\n",
      "│        ┆ esnet_ee    ┆ rain       ┆ al         ┆   ┆           ┆          ┆         ┆            │\n",
      "│        ┆ resnet18    ┆            ┆            ┆   ┆           ┆          ┆         ┆            │\n",
      "│ 105    ┆ models.gitr ┆ cifar100_t ┆ cifar100_v ┆ … ┆ 0.8684    ┆ 0.217982 ┆ 0.58    ┆ mCYh9K6RM4 │\n",
      "│        ┆ esnet_ee    ┆ rain       ┆ al         ┆   ┆           ┆          ┆         ┆            │\n",
      "│        ┆ resnet18    ┆            ┆            ┆   ┆           ┆          ┆         ┆            │\n",
      "│ 106    ┆ models.gitr ┆ cifar100_t ┆ cifar100_v ┆ … ┆ 0.9312    ┆ 0.2474   ┆ 0.579   ┆ mCYh9K6RM4 │\n",
      "│        ┆ esnet_ee    ┆ rain       ┆ al         ┆   ┆           ┆          ┆         ┆            │\n",
      "│        ┆ resnet18    ┆            ┆            ┆   ┆           ┆          ┆         ┆            │\n",
      "│ …      ┆ …           ┆ …          ┆ …          ┆ … ┆ …         ┆ …        ┆ …       ┆ …          │\n",
      "│ 697    ┆ models.gitr ┆ cifar100_t ┆ cifar100_v ┆ … ┆ 0.9464    ┆ 0.074305 ┆ 0.85    ┆ CjDTi8AISx │\n",
      "│        ┆ esnet_ee    ┆ rain       ┆ al         ┆   ┆           ┆          ┆         ┆            │\n",
      "│        ┆ resnet18    ┆            ┆            ┆   ┆           ┆          ┆         ┆            │\n",
      "│ 698    ┆ models.gitr ┆ cifar100_t ┆ cifar100_v ┆ … ┆ 0.9534    ┆ 0.079647 ┆ 0.836   ┆ CjDTi8AISx │\n",
      "│        ┆ esnet_ee    ┆ rain       ┆ al         ┆   ┆           ┆          ┆         ┆            │\n",
      "│        ┆ resnet18    ┆            ┆            ┆   ┆           ┆          ┆         ┆            │\n",
      "│ 699    ┆ models.gitr ┆ cifar100_t ┆ cifar100_v ┆ … ┆ 0.9598    ┆ 0.086076 ┆ 0.839   ┆ CjDTi8AISx │\n",
      "│        ┆ esnet_ee    ┆ rain       ┆ al         ┆   ┆           ┆          ┆         ┆            │\n",
      "│        ┆ resnet18    ┆            ┆            ┆   ┆           ┆          ┆         ┆            │\n",
      "│ 700    ┆ models.gitr ┆ cifar100_t ┆ cifar100_v ┆ … ┆ 0.977     ┆ 0.107286 ┆ 0.832   ┆ CjDTi8AISx │\n",
      "│        ┆ esnet_ee    ┆ rain       ┆ al         ┆   ┆           ┆          ┆         ┆            │\n",
      "│        ┆ resnet18    ┆            ┆            ┆   ┆           ┆          ┆         ┆            │\n",
      "│ 701    ┆ models.gitr ┆ cifar100_t ┆ cifar100_v ┆ … ┆ 0.9842    ┆ 0.12338  ┆ 0.814   ┆ CjDTi8AISx │\n",
      "│        ┆ esnet_ee    ┆ rain       ┆ al         ┆   ┆           ┆          ┆         ┆            │\n",
      "│        ┆ resnet18    ┆            ┆            ┆   ┆           ┆          ┆         ┆            │\n",
      "└────────┴─────────────┴────────────┴────────────┴───┴───────────┴──────────┴─────────┴────────────┘\n"
     ]
    }
   ],
   "source": [
    "import polars as pl\n",
    "import random\n",
    "import string\n",
    "\n",
    "# ランダムな10文字の文字列を生成する関数\n",
    "def generate_random_string():\n",
    "    return ''.join(random.choices(string.ascii_letters + string.digits, k=10))\n",
    "\n",
    "# CSVファイルを読み込む (例: input.csv)\n",
    "df = pl.read_csv(\"/home/haselab/Documents/tat/Research/app/ee_cifar100_dist/exp_cifar100_dist/results.csv\")\n",
    "\n",
    "# 各6つのレコードごとにランダムな文字列を生成してrand_strカラムに追加する\n",
    "n = len(df)\n",
    "random_strings = [generate_random_string() for _ in range((n + 5) // 6)]\n",
    "df = df.with_columns(\n",
    "    pl.Series(\"rand_str\", [random_strings[i // 6] for i in range(n)])\n",
    ")\n",
    "\n",
    "# 結果を確認\n",
    "print(df)\n",
    "\n",
    "# CSVファイルに保存 (例: output.csv)\n",
    "df.write_csv(\"/home/haselab/Documents/tat/Research/app/ee_cifar100_dist/exp_cifar100_dist/results.csv\")"
   ]
  }
 ],
 "metadata": {
  "kernelspec": {
   "display_name": "tat",
   "language": "python",
   "name": "python3"
  },
  "language_info": {
   "codemirror_mode": {
    "name": "ipython",
    "version": 3
   },
   "file_extension": ".py",
   "mimetype": "text/x-python",
   "name": "python",
   "nbconvert_exporter": "python",
   "pygments_lexer": "ipython3",
   "version": "3.12.3"
  }
 },
 "nbformat": 4,
 "nbformat_minor": 2
}
