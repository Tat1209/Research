{
 "cells": [
  {
   "cell_type": "code",
   "execution_count": 1,
   "metadata": {},
   "outputs": [],
   "source": [
    "import polars as pl\n",
    "import numpy as np\n",
    "from pathlib import Path\n",
    "import matplotlib.pyplot as plt\n",
    "import seaborn as sns\n",
    "\n",
    "import sys\n",
    "work_path = Path(next((p for p in Path(\"__file__\").resolve().parents if p.name == \"Research\"), None))\n",
    "torchlib_path = str(work_path / Path(\"app/torch_libs\"))\n",
    "sys.path.append(torchlib_path)\n",
    "\n",
    "from run_manager import RunManager, RunsManager, RunViewer\n"
   ]
  },
  {
   "cell_type": "code",
   "execution_count": 2,
   "metadata": {},
   "outputs": [],
   "source": [
    "nb_path = Path().resolve()\n",
    "# rm = RunManager(exp_path=nb_path)\n",
    "# rm.ref_stats()\n",
    "rv = RunViewer(exp_path=nb_path)\n",
    "df_base = rv.fetch_results()\n",
    "\n",
    "pass"
   ]
  },
  {
   "cell_type": "code",
   "execution_count": 11,
   "metadata": {},
   "outputs": [
    {
     "data": {
      "text/html": [
       "<div><style>\n",
       ".dataframe > thead > tr,\n",
       ".dataframe > tbody > tr {\n",
       "  text-align: right;\n",
       "  white-space: pre-wrap;\n",
       "}\n",
       "</style>\n",
       "<small>shape: (64_560, 36)</small><table border=\"1\" class=\"dataframe\"><thead><tr><th>run_id</th><th>step</th><th>lr</th><th>epoch</th><th>train_loss</th><th>train_acc</th><th>val_loss</th><th>val_acc</th><th>model_arc</th><th>train_dataset</th><th>val_dataset</th><th>num_classes</th><th>train_trans</th><th>val_trans</th><th>train_num</th><th>val_num</th><th>epochs</th><th>max_lr</th><th>batch_size</th><th>iters/epoch</th><th>base_fils</th><th>fils</th><th>ensembles</th><th>classdist</th><th>classdist2</th><th>classdist3</th><th>params</th><th>loss_func</th><th>optimizer</th><th>scheduler</th><th>lr_right</th><th>epoch_right</th><th>train_loss_right</th><th>train_acc_right</th><th>val_loss_right</th><th>val_acc_right</th></tr><tr><td>i32</td><td>i64</td><td>f64</td><td>i64</td><td>f64</td><td>f64</td><td>f64</td><td>f64</td><td>str</td><td>str</td><td>str</td><td>i64</td><td>str</td><td>str</td><td>i64</td><td>i64</td><td>i64</td><td>f64</td><td>i64</td><td>i64</td><td>i64</td><td>i64</td><td>i64</td><td>f64</td><td>f64</td><td>f64</td><td>i64</td><td>str</td><td>str</td><td>str</td><td>f64</td><td>i64</td><td>f64</td><td>f64</td><td>f64</td><td>f64</td></tr></thead><tbody><tr><td>102</td><td>1</td><td>0.0005</td><td>1</td><td>0.353967</td><td>0.326</td><td>null</td><td>null</td><td>&quot;models.gitresnet_ee resnet18&quot;</td><td>&quot;cifar100_train&quot;</td><td>&quot;cifar100_val&quot;</td><td>10</td><td>&quot;[ToTensor(), RandomHorizontalF…</td><td>&quot;[ToTensor()]&quot;</td><td>5000</td><td>1000</td><td>200</td><td>0.0005</td><td>128</td><td>40</td><td>32</td><td>1</td><td>1024</td><td>1.617023</td><td>1.1595737</td><td>0.6382765</td><td>3062784</td><td>&quot;CrossEntropyLoss()&quot;</td><td>&quot;Adam ( Parameter Group 0     a…</td><td>&quot;CosineAnnealingLR ( T_max = 20…</td><td>3.0842e-8</td><td>200</td><td>0.15679</td><td>0.6932</td><td>0.190502</td><td>0.578</td></tr><tr><td>102</td><td>2</td><td>0.0005</td><td>2</td><td>0.326281</td><td>0.3662</td><td>0.351518</td><td>0.19</td><td>&quot;models.gitresnet_ee resnet18&quot;</td><td>&quot;cifar100_train&quot;</td><td>&quot;cifar100_val&quot;</td><td>10</td><td>&quot;[ToTensor(), RandomHorizontalF…</td><td>&quot;[ToTensor()]&quot;</td><td>5000</td><td>1000</td><td>200</td><td>0.0005</td><td>128</td><td>40</td><td>32</td><td>1</td><td>1024</td><td>1.617023</td><td>1.1595737</td><td>0.6382765</td><td>3062784</td><td>&quot;CrossEntropyLoss()&quot;</td><td>&quot;Adam ( Parameter Group 0     a…</td><td>&quot;CosineAnnealingLR ( T_max = 20…</td><td>3.0842e-8</td><td>200</td><td>0.15679</td><td>0.6932</td><td>0.190502</td><td>0.578</td></tr><tr><td>102</td><td>3</td><td>0.0005</td><td>3</td><td>0.312804</td><td>0.3828</td><td>null</td><td>null</td><td>&quot;models.gitresnet_ee resnet18&quot;</td><td>&quot;cifar100_train&quot;</td><td>&quot;cifar100_val&quot;</td><td>10</td><td>&quot;[ToTensor(), RandomHorizontalF…</td><td>&quot;[ToTensor()]&quot;</td><td>5000</td><td>1000</td><td>200</td><td>0.0005</td><td>128</td><td>40</td><td>32</td><td>1</td><td>1024</td><td>1.617023</td><td>1.1595737</td><td>0.6382765</td><td>3062784</td><td>&quot;CrossEntropyLoss()&quot;</td><td>&quot;Adam ( Parameter Group 0     a…</td><td>&quot;CosineAnnealingLR ( T_max = 20…</td><td>3.0842e-8</td><td>200</td><td>0.15679</td><td>0.6932</td><td>0.190502</td><td>0.578</td></tr><tr><td>102</td><td>4</td><td>0.0005</td><td>4</td><td>0.303887</td><td>0.3954</td><td>0.294532</td><td>0.393</td><td>&quot;models.gitresnet_ee resnet18&quot;</td><td>&quot;cifar100_train&quot;</td><td>&quot;cifar100_val&quot;</td><td>10</td><td>&quot;[ToTensor(), RandomHorizontalF…</td><td>&quot;[ToTensor()]&quot;</td><td>5000</td><td>1000</td><td>200</td><td>0.0005</td><td>128</td><td>40</td><td>32</td><td>1</td><td>1024</td><td>1.617023</td><td>1.1595737</td><td>0.6382765</td><td>3062784</td><td>&quot;CrossEntropyLoss()&quot;</td><td>&quot;Adam ( Parameter Group 0     a…</td><td>&quot;CosineAnnealingLR ( T_max = 20…</td><td>3.0842e-8</td><td>200</td><td>0.15679</td><td>0.6932</td><td>0.190502</td><td>0.578</td></tr><tr><td>102</td><td>5</td><td>0.0005</td><td>5</td><td>0.295542</td><td>0.4088</td><td>null</td><td>null</td><td>&quot;models.gitresnet_ee resnet18&quot;</td><td>&quot;cifar100_train&quot;</td><td>&quot;cifar100_val&quot;</td><td>10</td><td>&quot;[ToTensor(), RandomHorizontalF…</td><td>&quot;[ToTensor()]&quot;</td><td>5000</td><td>1000</td><td>200</td><td>0.0005</td><td>128</td><td>40</td><td>32</td><td>1</td><td>1024</td><td>1.617023</td><td>1.1595737</td><td>0.6382765</td><td>3062784</td><td>&quot;CrossEntropyLoss()&quot;</td><td>&quot;Adam ( Parameter Group 0     a…</td><td>&quot;CosineAnnealingLR ( T_max = 20…</td><td>3.0842e-8</td><td>200</td><td>0.15679</td><td>0.6932</td><td>0.190502</td><td>0.578</td></tr><tr><td>&hellip;</td><td>&hellip;</td><td>&hellip;</td><td>&hellip;</td><td>&hellip;</td><td>&hellip;</td><td>&hellip;</td><td>&hellip;</td><td>&hellip;</td><td>&hellip;</td><td>&hellip;</td><td>&hellip;</td><td>&hellip;</td><td>&hellip;</td><td>&hellip;</td><td>&hellip;</td><td>&hellip;</td><td>&hellip;</td><td>&hellip;</td><td>&hellip;</td><td>&hellip;</td><td>&hellip;</td><td>&hellip;</td><td>&hellip;</td><td>&hellip;</td><td>&hellip;</td><td>&hellip;</td><td>&hellip;</td><td>&hellip;</td><td>&hellip;</td><td>&hellip;</td><td>&hellip;</td><td>&hellip;</td><td>&hellip;</td><td>&hellip;</td><td>&hellip;</td></tr><tr><td>425</td><td>156</td><td>0.00006</td><td>156</td><td>0.025383</td><td>0.95</td><td>0.245998</td><td>0.653</td><td>&quot;models.gitresnet_ee resnet18&quot;</td><td>&quot;cifar100_train&quot;</td><td>&quot;cifar100_val&quot;</td><td>10</td><td>&quot;[ToTensor(), RandomHorizontalF…</td><td>&quot;[ToTensor()]&quot;</td><td>5000</td><td>1000</td><td>200</td><td>0.0005</td><td>128</td><td>40</td><td>32</td><td>32</td><td>1</td><td>3.581213</td><td>1.6257433</td><td>0.479573</td><td>2797610</td><td>&quot;CrossEntropyLoss()&quot;</td><td>&quot;Adam ( Parameter Group 0     a…</td><td>&quot;CosineAnnealingLR ( T_max = 20…</td><td>0.00005</td><td>160</td><td>0.024056</td><td>0.9538</td><td>0.252723</td><td>0.642</td></tr><tr><td>425</td><td>157</td><td>0.000057</td><td>157</td><td>0.0256</td><td>0.9528</td><td>null</td><td>null</td><td>&quot;models.gitresnet_ee resnet18&quot;</td><td>&quot;cifar100_train&quot;</td><td>&quot;cifar100_val&quot;</td><td>10</td><td>&quot;[ToTensor(), RandomHorizontalF…</td><td>&quot;[ToTensor()]&quot;</td><td>5000</td><td>1000</td><td>200</td><td>0.0005</td><td>128</td><td>40</td><td>32</td><td>32</td><td>1</td><td>3.581213</td><td>1.6257433</td><td>0.479573</td><td>2797610</td><td>&quot;CrossEntropyLoss()&quot;</td><td>&quot;Adam ( Parameter Group 0     a…</td><td>&quot;CosineAnnealingLR ( T_max = 20…</td><td>0.00005</td><td>160</td><td>0.024056</td><td>0.9538</td><td>0.252723</td><td>0.642</td></tr><tr><td>425</td><td>158</td><td>0.000055</td><td>158</td><td>0.025231</td><td>0.9506</td><td>0.251119</td><td>0.649</td><td>&quot;models.gitresnet_ee resnet18&quot;</td><td>&quot;cifar100_train&quot;</td><td>&quot;cifar100_val&quot;</td><td>10</td><td>&quot;[ToTensor(), RandomHorizontalF…</td><td>&quot;[ToTensor()]&quot;</td><td>5000</td><td>1000</td><td>200</td><td>0.0005</td><td>128</td><td>40</td><td>32</td><td>32</td><td>1</td><td>3.581213</td><td>1.6257433</td><td>0.479573</td><td>2797610</td><td>&quot;CrossEntropyLoss()&quot;</td><td>&quot;Adam ( Parameter Group 0     a…</td><td>&quot;CosineAnnealingLR ( T_max = 20…</td><td>0.00005</td><td>160</td><td>0.024056</td><td>0.9538</td><td>0.252723</td><td>0.642</td></tr><tr><td>425</td><td>159</td><td>0.000052</td><td>159</td><td>0.024755</td><td>0.9554</td><td>null</td><td>null</td><td>&quot;models.gitresnet_ee resnet18&quot;</td><td>&quot;cifar100_train&quot;</td><td>&quot;cifar100_val&quot;</td><td>10</td><td>&quot;[ToTensor(), RandomHorizontalF…</td><td>&quot;[ToTensor()]&quot;</td><td>5000</td><td>1000</td><td>200</td><td>0.0005</td><td>128</td><td>40</td><td>32</td><td>32</td><td>1</td><td>3.581213</td><td>1.6257433</td><td>0.479573</td><td>2797610</td><td>&quot;CrossEntropyLoss()&quot;</td><td>&quot;Adam ( Parameter Group 0     a…</td><td>&quot;CosineAnnealingLR ( T_max = 20…</td><td>0.00005</td><td>160</td><td>0.024056</td><td>0.9538</td><td>0.252723</td><td>0.642</td></tr><tr><td>425</td><td>160</td><td>0.00005</td><td>160</td><td>0.024056</td><td>0.9538</td><td>0.252723</td><td>0.642</td><td>&quot;models.gitresnet_ee resnet18&quot;</td><td>&quot;cifar100_train&quot;</td><td>&quot;cifar100_val&quot;</td><td>10</td><td>&quot;[ToTensor(), RandomHorizontalF…</td><td>&quot;[ToTensor()]&quot;</td><td>5000</td><td>1000</td><td>200</td><td>0.0005</td><td>128</td><td>40</td><td>32</td><td>32</td><td>1</td><td>3.581213</td><td>1.6257433</td><td>0.479573</td><td>2797610</td><td>&quot;CrossEntropyLoss()&quot;</td><td>&quot;Adam ( Parameter Group 0     a…</td><td>&quot;CosineAnnealingLR ( T_max = 20…</td><td>0.00005</td><td>160</td><td>0.024056</td><td>0.9538</td><td>0.252723</td><td>0.642</td></tr></tbody></table></div>"
      ],
      "text/plain": [
       "shape: (64_560, 36)\n",
       "┌────────┬──────┬──────────┬───────┬───┬──────────────┬──────────────┬──────────────┬──────────────┐\n",
       "│ run_id ┆ step ┆ lr       ┆ epoch ┆ … ┆ train_loss_r ┆ train_acc_ri ┆ val_loss_rig ┆ val_acc_righ │\n",
       "│ ---    ┆ ---  ┆ ---      ┆ ---   ┆   ┆ ight         ┆ ght          ┆ ht           ┆ t            │\n",
       "│ i32    ┆ i64  ┆ f64      ┆ i64   ┆   ┆ ---          ┆ ---          ┆ ---          ┆ ---          │\n",
       "│        ┆      ┆          ┆       ┆   ┆ f64          ┆ f64          ┆ f64          ┆ f64          │\n",
       "╞════════╪══════╪══════════╪═══════╪═══╪══════════════╪══════════════╪══════════════╪══════════════╡\n",
       "│ 102    ┆ 1    ┆ 0.0005   ┆ 1     ┆ … ┆ 0.15679      ┆ 0.6932       ┆ 0.190502     ┆ 0.578        │\n",
       "│ 102    ┆ 2    ┆ 0.0005   ┆ 2     ┆ … ┆ 0.15679      ┆ 0.6932       ┆ 0.190502     ┆ 0.578        │\n",
       "│ 102    ┆ 3    ┆ 0.0005   ┆ 3     ┆ … ┆ 0.15679      ┆ 0.6932       ┆ 0.190502     ┆ 0.578        │\n",
       "│ 102    ┆ 4    ┆ 0.0005   ┆ 4     ┆ … ┆ 0.15679      ┆ 0.6932       ┆ 0.190502     ┆ 0.578        │\n",
       "│ 102    ┆ 5    ┆ 0.0005   ┆ 5     ┆ … ┆ 0.15679      ┆ 0.6932       ┆ 0.190502     ┆ 0.578        │\n",
       "│ …      ┆ …    ┆ …        ┆ …     ┆ … ┆ …            ┆ …            ┆ …            ┆ …            │\n",
       "│ 425    ┆ 156  ┆ 0.00006  ┆ 156   ┆ … ┆ 0.024056     ┆ 0.9538       ┆ 0.252723     ┆ 0.642        │\n",
       "│ 425    ┆ 157  ┆ 0.000057 ┆ 157   ┆ … ┆ 0.024056     ┆ 0.9538       ┆ 0.252723     ┆ 0.642        │\n",
       "│ 425    ┆ 158  ┆ 0.000055 ┆ 158   ┆ … ┆ 0.024056     ┆ 0.9538       ┆ 0.252723     ┆ 0.642        │\n",
       "│ 425    ┆ 159  ┆ 0.000052 ┆ 159   ┆ … ┆ 0.024056     ┆ 0.9538       ┆ 0.252723     ┆ 0.642        │\n",
       "│ 425    ┆ 160  ┆ 0.00005  ┆ 160   ┆ … ┆ 0.024056     ┆ 0.9538       ┆ 0.252723     ┆ 0.642        │\n",
       "└────────┴──────┴──────────┴───────┴───┴──────────────┴──────────────┴──────────────┴──────────────┘"
      ]
     },
     "metadata": {},
     "output_type": "display_data"
    }
   ],
   "source": [
    "df_stats = rv.fetch_results().cast({\"run_id\": pl.Int32})\n",
    "df_mets = rv.fetch_metrics()\n",
    "df_mets = df_mets.join(df_stats, on=\"run_id\", how=\"left\")\n",
    "\n",
    "display(df_mets)\n"
   ]
  },
  {
   "cell_type": "code",
   "execution_count": 5,
   "metadata": {},
   "outputs": [
    {
     "ename": "ColumnNotFoundError",
     "evalue": "\"num_data\" not found",
     "output_type": "error",
     "traceback": [
      "\u001b[0;31m---------------------------------------------------------------------------\u001b[0m",
      "\u001b[0;31mColumnNotFoundError\u001b[0m                       Traceback (most recent call last)",
      "Cell \u001b[0;32mIn[5], line 48\u001b[0m\n\u001b[1;32m     43\u001b[0m                 ax[r][c]\u001b[38;5;241m.\u001b[39mplot(x, y2)\n\u001b[1;32m     45\u001b[0m                 \u001b[38;5;66;03m# ax[r][c].legend()\u001b[39;00m\n\u001b[0;32m---> 48\u001b[0m \u001b[43mrv_to_figs\u001b[49m\u001b[43m(\u001b[49m\u001b[43mrv\u001b[49m\u001b[43m,\u001b[49m\u001b[43m \u001b[49m\u001b[38;5;124;43m\"\u001b[39;49m\u001b[38;5;124;43mfils\u001b[39;49m\u001b[38;5;124;43m\"\u001b[39;49m\u001b[43m,\u001b[49m\u001b[43m \u001b[49m\u001b[38;5;124;43m\"\u001b[39;49m\u001b[38;5;124;43mnum_data\u001b[39;49m\u001b[38;5;124;43m\"\u001b[39;49m\u001b[43m,\u001b[49m\u001b[43m \u001b[49m\u001b[38;5;124;43m\"\u001b[39;49m\u001b[38;5;124;43mepoch\u001b[39;49m\u001b[38;5;124;43m\"\u001b[39;49m\u001b[43m,\u001b[49m\u001b[43m \u001b[49m\u001b[38;5;124;43m\"\u001b[39;49m\u001b[38;5;124;43mval_acc\u001b[39;49m\u001b[38;5;124;43m\"\u001b[39;49m\u001b[43m,\u001b[49m\u001b[43m \u001b[49m\u001b[38;5;124;43m\"\u001b[39;49m\u001b[38;5;124;43mnum_data\u001b[39;49m\u001b[38;5;124;43m\"\u001b[39;49m\u001b[43m,\u001b[49m\u001b[43m \u001b[49m\u001b[43mwindow_size\u001b[49m\u001b[38;5;241;43m=\u001b[39;49m\u001b[38;5;241;43m4\u001b[39;49m\u001b[43m)\u001b[49m\n",
      "Cell \u001b[0;32mIn[5], line 5\u001b[0m, in \u001b[0;36mrv_to_figs\u001b[0;34m(rv, place_row_col, place_col_col, graph_x_col, graph_y_col, label_col, window_size)\u001b[0m\n\u001b[1;32m      2\u001b[0m df_stats \u001b[38;5;241m=\u001b[39m rv\u001b[38;5;241m.\u001b[39mfetch_results()\u001b[38;5;241m.\u001b[39mcast({\u001b[38;5;124m\"\u001b[39m\u001b[38;5;124mrun_id\u001b[39m\u001b[38;5;124m\"\u001b[39m: pl\u001b[38;5;241m.\u001b[39mInt32})\n\u001b[1;32m      3\u001b[0m df_mets \u001b[38;5;241m=\u001b[39m rv\u001b[38;5;241m.\u001b[39mfetch_metrics()\n\u001b[0;32m----> 5\u001b[0m df_mets \u001b[38;5;241m=\u001b[39m \u001b[43mdf_mets\u001b[49m\u001b[38;5;241;43m.\u001b[39;49m\u001b[43mjoin\u001b[49m\u001b[43m(\u001b[49m\u001b[43mdf_stats\u001b[49m\u001b[43m,\u001b[49m\u001b[43m \u001b[49m\u001b[43mon\u001b[49m\u001b[38;5;241;43m=\u001b[39;49m\u001b[38;5;124;43m\"\u001b[39;49m\u001b[38;5;124;43mrun_id\u001b[39;49m\u001b[38;5;124;43m\"\u001b[39;49m\u001b[43m,\u001b[49m\u001b[43m \u001b[49m\u001b[43mhow\u001b[49m\u001b[38;5;241;43m=\u001b[39;49m\u001b[38;5;124;43m\"\u001b[39;49m\u001b[38;5;124;43mleft\u001b[39;49m\u001b[38;5;124;43m\"\u001b[39;49m\u001b[43m)\u001b[49m\u001b[38;5;241;43m.\u001b[39;49m\u001b[43msort\u001b[49m\u001b[43m(\u001b[49m\u001b[43mby\u001b[49m\u001b[38;5;241;43m=\u001b[39;49m\u001b[43mplace_row_col\u001b[49m\u001b[43m)\u001b[49m\u001b[38;5;241;43m.\u001b[39;49m\u001b[43msort\u001b[49m\u001b[43m(\u001b[49m\u001b[43mby\u001b[49m\u001b[38;5;241;43m=\u001b[39;49m\u001b[43mplace_col_col\u001b[49m\u001b[43m)\u001b[49m\n\u001b[1;32m      7\u001b[0m row_vals \u001b[38;5;241m=\u001b[39m df_stats[place_row_col]\u001b[38;5;241m.\u001b[39munique()\u001b[38;5;241m.\u001b[39mreverse()\n\u001b[1;32m      8\u001b[0m col_vals \u001b[38;5;241m=\u001b[39m df_stats[place_col_col]\u001b[38;5;241m.\u001b[39munique()\n",
      "File \u001b[0;32m~/miniconda3/envs/tat/lib/python3.12/site-packages/polars/dataframe/frame.py:5111\u001b[0m, in \u001b[0;36mDataFrame.sort\u001b[0;34m(self, by, descending, nulls_last, multithreaded, maintain_order, *more_by)\u001b[0m\n\u001b[1;32m   5006\u001b[0m \u001b[38;5;28;01mdef\u001b[39;00m \u001b[38;5;21msort\u001b[39m(\n\u001b[1;32m   5007\u001b[0m     \u001b[38;5;28mself\u001b[39m,\n\u001b[1;32m   5008\u001b[0m     by: IntoExpr \u001b[38;5;241m|\u001b[39m Iterable[IntoExpr],\n\u001b[0;32m   (...)\u001b[0m\n\u001b[1;32m   5013\u001b[0m     maintain_order: \u001b[38;5;28mbool\u001b[39m \u001b[38;5;241m=\u001b[39m \u001b[38;5;28;01mFalse\u001b[39;00m,\n\u001b[1;32m   5014\u001b[0m ) \u001b[38;5;241m-\u001b[39m\u001b[38;5;241m>\u001b[39m DataFrame:\n\u001b[1;32m   5015\u001b[0m \u001b[38;5;250m    \u001b[39m\u001b[38;5;124;03m\"\"\"\u001b[39;00m\n\u001b[1;32m   5016\u001b[0m \u001b[38;5;124;03m    Sort the dataframe by the given columns.\u001b[39;00m\n\u001b[1;32m   5017\u001b[0m \n\u001b[0;32m   (...)\u001b[0m\n\u001b[1;32m   5099\u001b[0m \u001b[38;5;124;03m    └──────┴─────┴─────┘\u001b[39;00m\n\u001b[1;32m   5100\u001b[0m \u001b[38;5;124;03m    \"\"\"\u001b[39;00m\n\u001b[1;32m   5101\u001b[0m     \u001b[38;5;28;01mreturn\u001b[39;00m (\n\u001b[1;32m   5102\u001b[0m         \u001b[38;5;28;43mself\u001b[39;49m\u001b[38;5;241;43m.\u001b[39;49m\u001b[43mlazy\u001b[49m\u001b[43m(\u001b[49m\u001b[43m)\u001b[49m\n\u001b[1;32m   5103\u001b[0m \u001b[43m        \u001b[49m\u001b[38;5;241;43m.\u001b[39;49m\u001b[43msort\u001b[49m\u001b[43m(\u001b[49m\n\u001b[1;32m   5104\u001b[0m \u001b[43m            \u001b[49m\u001b[43mby\u001b[49m\u001b[43m,\u001b[49m\n\u001b[1;32m   5105\u001b[0m \u001b[43m            \u001b[49m\u001b[38;5;241;43m*\u001b[39;49m\u001b[43mmore_by\u001b[49m\u001b[43m,\u001b[49m\n\u001b[1;32m   5106\u001b[0m \u001b[43m            \u001b[49m\u001b[43mdescending\u001b[49m\u001b[38;5;241;43m=\u001b[39;49m\u001b[43mdescending\u001b[49m\u001b[43m,\u001b[49m\n\u001b[1;32m   5107\u001b[0m \u001b[43m            \u001b[49m\u001b[43mnulls_last\u001b[49m\u001b[38;5;241;43m=\u001b[39;49m\u001b[43mnulls_last\u001b[49m\u001b[43m,\u001b[49m\n\u001b[1;32m   5108\u001b[0m \u001b[43m            \u001b[49m\u001b[43mmultithreaded\u001b[49m\u001b[38;5;241;43m=\u001b[39;49m\u001b[43mmultithreaded\u001b[49m\u001b[43m,\u001b[49m\n\u001b[1;32m   5109\u001b[0m \u001b[43m            \u001b[49m\u001b[43mmaintain_order\u001b[49m\u001b[38;5;241;43m=\u001b[39;49m\u001b[43mmaintain_order\u001b[49m\u001b[43m,\u001b[49m\n\u001b[1;32m   5110\u001b[0m \u001b[43m        \u001b[49m\u001b[43m)\u001b[49m\n\u001b[0;32m-> 5111\u001b[0m \u001b[43m        \u001b[49m\u001b[38;5;241;43m.\u001b[39;49m\u001b[43mcollect\u001b[49m\u001b[43m(\u001b[49m\u001b[43m_eager\u001b[49m\u001b[38;5;241;43m=\u001b[39;49m\u001b[38;5;28;43;01mTrue\u001b[39;49;00m\u001b[43m)\u001b[49m\n\u001b[1;32m   5112\u001b[0m     )\n",
      "File \u001b[0;32m~/miniconda3/envs/tat/lib/python3.12/site-packages/polars/lazyframe/frame.py:2053\u001b[0m, in \u001b[0;36mLazyFrame.collect\u001b[0;34m(self, type_coercion, predicate_pushdown, projection_pushdown, simplify_expression, slice_pushdown, comm_subplan_elim, comm_subexpr_elim, cluster_with_columns, collapse_joins, no_optimization, streaming, engine, background, _eager, **_kwargs)\u001b[0m\n\u001b[1;32m   2051\u001b[0m \u001b[38;5;66;03m# Only for testing purposes\u001b[39;00m\n\u001b[1;32m   2052\u001b[0m callback \u001b[38;5;241m=\u001b[39m _kwargs\u001b[38;5;241m.\u001b[39mget(\u001b[38;5;124m\"\u001b[39m\u001b[38;5;124mpost_opt_callback\u001b[39m\u001b[38;5;124m\"\u001b[39m, callback)\n\u001b[0;32m-> 2053\u001b[0m \u001b[38;5;28;01mreturn\u001b[39;00m wrap_df(\u001b[43mldf\u001b[49m\u001b[38;5;241;43m.\u001b[39;49m\u001b[43mcollect\u001b[49m\u001b[43m(\u001b[49m\u001b[43mcallback\u001b[49m\u001b[43m)\u001b[49m)\n",
      "\u001b[0;31mColumnNotFoundError\u001b[0m: \"num_data\" not found"
     ]
    }
   ],
   "source": [
    "def rv_to_figs(rv, place_row_col, place_col_col, graph_x_col, graph_y_col, label_col, window_size=None):\n",
    "    df_stats = rv.fetch_results().cast({\"run_id\": pl.Int32})\n",
    "    df_mets = rv.fetch_metrics()\n",
    "\n",
    "    df_mets = df_mets.join(df_stats, on=\"run_id\", how=\"left\").sort(by=place_row_col).sort(by=place_col_col)\n",
    "\n",
    "    row_vals = df_stats[place_row_col].unique().reverse()\n",
    "    col_vals = df_stats[place_col_col].unique()\n",
    "\n",
    "    fig, ax = plt.subplots(nrows=len(row_vals), ncols=len(col_vals), squeeze=False)\n",
    "    plt.subplots_adjust(hspace=0.35)\n",
    "    fig.set_figwidth(6 * len(col_vals))\n",
    "    fig.set_figheight(4 * len(row_vals))\n",
    "\n",
    "    for r, row_val in enumerate(row_vals):\n",
    "        for c, col_val in enumerate(col_vals):\n",
    "\n",
    "            df_stats_ext = df_stats.filter((pl.col(place_row_col) == row_val) & (pl.col(place_col_col) == col_val))\n",
    "            run_ids = df_stats_ext[\"run_id\"]\n",
    "            \n",
    "\n",
    "            df_agg = df_mets.group_by(by=\"run_id\", maintain_order=True).agg(pl.all())\n",
    "            df_agg = df_agg.filter((pl.col(\"run_id\").is_in(run_ids)))\n",
    "\n",
    "\n",
    "            ax[r][c].set_xlabel(graph_x_col)\n",
    "            ax[r][c].set_ylabel(graph_y_col)\n",
    "            ax[r][c].set_ylim([0, 1])\n",
    "            ax[r][c].set_title(f\"{place_row_col}: {row_val}, {place_col_col}: {col_val}\")\n",
    "\n",
    "            for df_row in df_agg.iter_rows(named=True):\n",
    "                x = pl.Series(df_row[graph_x_col])\n",
    "                y = pl.Series(df_row[graph_y_col]).rolling_mean(window_size=window_size, min_periods=0)\n",
    "                # label = df_stats.filter(pl.col(\"run_id\") == df_row[\"run_id\"])[label_col][0]\n",
    "                # ax[r][c].plot(x, y, label=label)\n",
    "\n",
    "                # ax[r][c].plot(x, y)\n",
    "                # y2 = pl.Series(df_row[\"train_acc\"]).rolling_mean(window_size=window_size, min_periods=0)\n",
    "                # ax[r][c].plot(x, y2)\n",
    "\n",
    "                ax[r][c].plot(x, y)\n",
    "                y2 = pl.Series(df_row[\"train_acc\"]).rolling_mean(window_size=window_size, min_periods=0)\n",
    "                ax[r][c].plot(x, y2)\n",
    "\n",
    "                # ax[r][c].legend()\n",
    "\n",
    "\n",
    "rv_to_figs(rv, \"fils\", \"num_data\", \"epoch\", \"val_acc\", \"num_data\", window_size=4)\n"
   ]
  },
  {
   "cell_type": "code",
   "execution_count": 3,
   "metadata": {},
   "outputs": [
    {
     "ename": "ColumnNotFoundError",
     "evalue": "\"num_data\" not found",
     "output_type": "error",
     "traceback": [
      "\u001b[0;31m---------------------------------------------------------------------------\u001b[0m",
      "\u001b[0;31mColumnNotFoundError\u001b[0m                       Traceback (most recent call last)",
      "Cell \u001b[0;32mIn[3], line 59\u001b[0m\n\u001b[1;32m     56\u001b[0m df_stats_fi \u001b[38;5;241m=\u001b[39m df_stats_ext\u001b[38;5;241m.\u001b[39mfilter(pl\u001b[38;5;241m.\u001b[39mcol(\u001b[38;5;124m\"\u001b[39m\u001b[38;5;124mfi_en\u001b[39m\u001b[38;5;124m\"\u001b[39m) \u001b[38;5;241m==\u001b[39m fi_en)\n\u001b[1;32m     57\u001b[0m \u001b[38;5;66;03m# df_stats_ext = df_stats_ext.sort(\"fils\")\u001b[39;00m\n\u001b[0;32m---> 59\u001b[0m \u001b[43mheat_pivot\u001b[49m\u001b[43m(\u001b[49m\u001b[43mdf_stats_fi\u001b[49m\u001b[43m,\u001b[49m\u001b[43m \u001b[49m\u001b[43mvalues\u001b[49m\u001b[38;5;241;43m=\u001b[39;49m\u001b[38;5;124;43m\"\u001b[39;49m\u001b[38;5;124;43mval_acc\u001b[39;49m\u001b[38;5;124;43m\"\u001b[39;49m\u001b[43m,\u001b[49m\u001b[43m \u001b[49m\u001b[43mindex\u001b[49m\u001b[38;5;241;43m=\u001b[39;49m\u001b[38;5;124;43m\"\u001b[39;49m\u001b[38;5;124;43mfe\u001b[39;49m\u001b[38;5;124;43m\"\u001b[39;49m\u001b[43m,\u001b[49m\u001b[43m \u001b[49m\u001b[43mcolumns\u001b[49m\u001b[38;5;241;43m=\u001b[39;49m\u001b[38;5;124;43m\"\u001b[39;49m\u001b[38;5;124;43mnum_data\u001b[39;49m\u001b[38;5;124;43m\"\u001b[39;49m\u001b[43m,\u001b[49m\u001b[43m \u001b[49m\u001b[43mcmap\u001b[49m\u001b[38;5;241;43m=\u001b[39;49m\u001b[38;5;124;43m\"\u001b[39;49m\u001b[38;5;124;43mBlues_r\u001b[39;49m\u001b[38;5;124;43m\"\u001b[39;49m\u001b[43m,\u001b[49m\u001b[43m \u001b[49m\u001b[43maggregate_function\u001b[49m\u001b[38;5;241;43m=\u001b[39;49m\u001b[38;5;124;43m\"\u001b[39;49m\u001b[38;5;124;43mmean\u001b[39;49m\u001b[38;5;124;43m\"\u001b[39;49m\u001b[43m,\u001b[49m\u001b[43m \u001b[49m\u001b[43mannot_rescale\u001b[49m\u001b[38;5;241;43m=\u001b[39;49m\u001b[38;5;28;43;01mFalse\u001b[39;49;00m\u001b[43m,\u001b[49m\u001b[43m \u001b[49m\u001b[43mcolor_rescale\u001b[49m\u001b[38;5;241;43m=\u001b[39;49m\u001b[38;5;28;43;01mTrue\u001b[39;49;00m\u001b[43m)\u001b[49m\n",
      "Cell \u001b[0;32mIn[3], line 2\u001b[0m, in \u001b[0;36mheat_pivot\u001b[0;34m(df, values, index, columns, aggregate_function, cmap, xlabels, ylabels, annot_rescale, color_rescale)\u001b[0m\n\u001b[1;32m      1\u001b[0m \u001b[38;5;28;01mdef\u001b[39;00m \u001b[38;5;21mheat_pivot\u001b[39m(df, values, index, columns, aggregate_function\u001b[38;5;241m=\u001b[39m\u001b[38;5;28;01mNone\u001b[39;00m, cmap\u001b[38;5;241m=\u001b[39m\u001b[38;5;28;01mNone\u001b[39;00m, xlabels\u001b[38;5;241m=\u001b[39m\u001b[38;5;28;01mNone\u001b[39;00m, ylabels\u001b[38;5;241m=\u001b[39m\u001b[38;5;28;01mNone\u001b[39;00m, annot_rescale\u001b[38;5;241m=\u001b[39m\u001b[38;5;28;01mFalse\u001b[39;00m, color_rescale\u001b[38;5;241m=\u001b[39m\u001b[38;5;28;01mFalse\u001b[39;00m):\n\u001b[0;32m----> 2\u001b[0m     df \u001b[38;5;241m=\u001b[39m \u001b[43mdf\u001b[49m\u001b[38;5;241;43m.\u001b[39;49m\u001b[43msort\u001b[49m\u001b[43m(\u001b[49m\u001b[43mcolumns\u001b[49m\u001b[43m)\u001b[49m\n\u001b[1;32m      3\u001b[0m     df \u001b[38;5;241m=\u001b[39m df\u001b[38;5;241m.\u001b[39mpivot(values\u001b[38;5;241m=\u001b[39mvalues, index\u001b[38;5;241m=\u001b[39mindex, columns\u001b[38;5;241m=\u001b[39mcolumns, aggregate_function\u001b[38;5;241m=\u001b[39maggregate_function)\n\u001b[1;32m      4\u001b[0m     df \u001b[38;5;241m=\u001b[39m df\u001b[38;5;241m.\u001b[39mreverse()\n",
      "File \u001b[0;32m~/miniconda3/envs/tat/lib/python3.12/site-packages/polars/dataframe/frame.py:5111\u001b[0m, in \u001b[0;36mDataFrame.sort\u001b[0;34m(self, by, descending, nulls_last, multithreaded, maintain_order, *more_by)\u001b[0m\n\u001b[1;32m   5006\u001b[0m \u001b[38;5;28;01mdef\u001b[39;00m \u001b[38;5;21msort\u001b[39m(\n\u001b[1;32m   5007\u001b[0m     \u001b[38;5;28mself\u001b[39m,\n\u001b[1;32m   5008\u001b[0m     by: IntoExpr \u001b[38;5;241m|\u001b[39m Iterable[IntoExpr],\n\u001b[0;32m   (...)\u001b[0m\n\u001b[1;32m   5013\u001b[0m     maintain_order: \u001b[38;5;28mbool\u001b[39m \u001b[38;5;241m=\u001b[39m \u001b[38;5;28;01mFalse\u001b[39;00m,\n\u001b[1;32m   5014\u001b[0m ) \u001b[38;5;241m-\u001b[39m\u001b[38;5;241m>\u001b[39m DataFrame:\n\u001b[1;32m   5015\u001b[0m \u001b[38;5;250m    \u001b[39m\u001b[38;5;124;03m\"\"\"\u001b[39;00m\n\u001b[1;32m   5016\u001b[0m \u001b[38;5;124;03m    Sort the dataframe by the given columns.\u001b[39;00m\n\u001b[1;32m   5017\u001b[0m \n\u001b[0;32m   (...)\u001b[0m\n\u001b[1;32m   5099\u001b[0m \u001b[38;5;124;03m    └──────┴─────┴─────┘\u001b[39;00m\n\u001b[1;32m   5100\u001b[0m \u001b[38;5;124;03m    \"\"\"\u001b[39;00m\n\u001b[1;32m   5101\u001b[0m     \u001b[38;5;28;01mreturn\u001b[39;00m (\n\u001b[1;32m   5102\u001b[0m         \u001b[38;5;28;43mself\u001b[39;49m\u001b[38;5;241;43m.\u001b[39;49m\u001b[43mlazy\u001b[49m\u001b[43m(\u001b[49m\u001b[43m)\u001b[49m\n\u001b[1;32m   5103\u001b[0m \u001b[43m        \u001b[49m\u001b[38;5;241;43m.\u001b[39;49m\u001b[43msort\u001b[49m\u001b[43m(\u001b[49m\n\u001b[1;32m   5104\u001b[0m \u001b[43m            \u001b[49m\u001b[43mby\u001b[49m\u001b[43m,\u001b[49m\n\u001b[1;32m   5105\u001b[0m \u001b[43m            \u001b[49m\u001b[38;5;241;43m*\u001b[39;49m\u001b[43mmore_by\u001b[49m\u001b[43m,\u001b[49m\n\u001b[1;32m   5106\u001b[0m \u001b[43m            \u001b[49m\u001b[43mdescending\u001b[49m\u001b[38;5;241;43m=\u001b[39;49m\u001b[43mdescending\u001b[49m\u001b[43m,\u001b[49m\n\u001b[1;32m   5107\u001b[0m \u001b[43m            \u001b[49m\u001b[43mnulls_last\u001b[49m\u001b[38;5;241;43m=\u001b[39;49m\u001b[43mnulls_last\u001b[49m\u001b[43m,\u001b[49m\n\u001b[1;32m   5108\u001b[0m \u001b[43m            \u001b[49m\u001b[43mmultithreaded\u001b[49m\u001b[38;5;241;43m=\u001b[39;49m\u001b[43mmultithreaded\u001b[49m\u001b[43m,\u001b[49m\n\u001b[1;32m   5109\u001b[0m \u001b[43m            \u001b[49m\u001b[43mmaintain_order\u001b[49m\u001b[38;5;241;43m=\u001b[39;49m\u001b[43mmaintain_order\u001b[49m\u001b[43m,\u001b[49m\n\u001b[1;32m   5110\u001b[0m \u001b[43m        \u001b[49m\u001b[43m)\u001b[49m\n\u001b[0;32m-> 5111\u001b[0m \u001b[43m        \u001b[49m\u001b[38;5;241;43m.\u001b[39;49m\u001b[43mcollect\u001b[49m\u001b[43m(\u001b[49m\u001b[43m_eager\u001b[49m\u001b[38;5;241;43m=\u001b[39;49m\u001b[38;5;28;43;01mTrue\u001b[39;49;00m\u001b[43m)\u001b[49m\n\u001b[1;32m   5112\u001b[0m     )\n",
      "File \u001b[0;32m~/miniconda3/envs/tat/lib/python3.12/site-packages/polars/lazyframe/frame.py:2053\u001b[0m, in \u001b[0;36mLazyFrame.collect\u001b[0;34m(self, type_coercion, predicate_pushdown, projection_pushdown, simplify_expression, slice_pushdown, comm_subplan_elim, comm_subexpr_elim, cluster_with_columns, collapse_joins, no_optimization, streaming, engine, background, _eager, **_kwargs)\u001b[0m\n\u001b[1;32m   2051\u001b[0m \u001b[38;5;66;03m# Only for testing purposes\u001b[39;00m\n\u001b[1;32m   2052\u001b[0m callback \u001b[38;5;241m=\u001b[39m _kwargs\u001b[38;5;241m.\u001b[39mget(\u001b[38;5;124m\"\u001b[39m\u001b[38;5;124mpost_opt_callback\u001b[39m\u001b[38;5;124m\"\u001b[39m, callback)\n\u001b[0;32m-> 2053\u001b[0m \u001b[38;5;28;01mreturn\u001b[39;00m wrap_df(\u001b[43mldf\u001b[49m\u001b[38;5;241;43m.\u001b[39;49m\u001b[43mcollect\u001b[49m\u001b[43m(\u001b[49m\u001b[43mcallback\u001b[49m\u001b[43m)\u001b[49m)\n",
      "\u001b[0;31mColumnNotFoundError\u001b[0m: \"num_data\" not found"
     ]
    }
   ],
   "source": [
    "def heat_pivot(df, values, index, columns, aggregate_function=None, cmap=None, xlabels=None, ylabels=None, annot_rescale=False, color_rescale=False):\n",
    "    df = df.sort(columns)\n",
    "    df = df.pivot(values=values, index=index, columns=columns, aggregate_function=aggregate_function)\n",
    "    df = df.reverse()\n",
    "    # df = df.select(df.columns[::-1])\n",
    "    df_ind_ser= df.select(index).to_series()\n",
    "    df = df.select(pl.all().exclude(index))\n",
    "\n",
    "    if xlabels is None:\n",
    "        xlabels = df.columns\n",
    "    if ylabels is None:\n",
    "        ylabels = df_ind_ser\n",
    "    \n",
    "    \n",
    "    # heatmap用\n",
    "    def rescale(df):\n",
    "        for col_name in df.columns:\n",
    "            col_ser = df[col_name]\n",
    "            max_val = col_ser.max()\n",
    "            min_val = col_ser.min()\n",
    "            \n",
    "            if max_val != min_val:\n",
    "                df = df.with_columns(pl.col(col_name).sub(min_val).truediv(max_val - min_val))\n",
    "        return df\n",
    "    re_df = rescale(df)\n",
    "    \n",
    "\n",
    "    if annot_rescale:\n",
    "        annot_C = re_df.to_numpy()\n",
    "    else:\n",
    "        annot_C = df.to_numpy()\n",
    "\n",
    "    if color_rescale:\n",
    "        color_C = re_df.to_numpy()\n",
    "    else:\n",
    "        color_C = df.to_numpy()\n",
    "    \n",
    "    annot_C *= 100\n",
    "\n",
    "\n",
    "    sns.set_theme(rc={\"figure.figsize\": (len(xlabels)/1.5, len(ylabels)/1.5)})\n",
    "    ax = sns.heatmap(color_C, annot=annot_C, cbar=True, square=True, cmap=cmap, xticklabels=xlabels, yticklabels=ylabels, fmt=\".1f\")\n",
    "    ax.set_xlabel(\"# of data\", fontsize=16)\n",
    "    ax.set_ylabel(\"(fils, ensembles)\", fontsize=14, rotation=90)\n",
    "    plt.show()\n",
    "    \n",
    "    \n",
    "\n",
    "df_stats = rv.fetch_results()\n",
    "df_stats_ext = df_stats\n",
    "\n",
    "df_stats_ext = df_stats_ext.with_columns((pl.col(\"fils\") * pl.col(\"fils\") * pl.col(\"ensembles\")).alias(\"fi_en\"))\n",
    "df_stats_ext = df_stats_ext.with_columns(pl.concat_str([pl.lit(\"(\"), pl.col(\"fils\"), pl.lit(\",\"), pl.col(\"ensembles\"), pl.lit(\")\")]).alias(\"fe\"))\n",
    "\n",
    "for fi_en in df_stats_ext[\"fi_en\"].unique().sort():\n",
    "    df_stats_fi = df_stats_ext.filter(pl.col(\"fi_en\") == fi_en)\n",
    "    # df_stats_ext = df_stats_ext.sort(\"fils\")\n",
    "\n",
    "    heat_pivot(df_stats_fi, values=\"val_acc\", index=\"fe\", columns=\"num_data\", cmap=\"Blues_r\", aggregate_function=\"mean\", annot_rescale=False, color_rescale=True)\n",
    "\n",
    "\n"
   ]
  },
  {
   "cell_type": "code",
   "execution_count": null,
   "metadata": {},
   "outputs": [],
   "source": []
  }
 ],
 "metadata": {
  "kernelspec": {
   "display_name": "tat_fish",
   "language": "python",
   "name": "python3"
  },
  "language_info": {
   "codemirror_mode": {
    "name": "ipython",
    "version": 3
   },
   "file_extension": ".py",
   "mimetype": "text/x-python",
   "name": "python",
   "nbconvert_exporter": "python",
   "pygments_lexer": "ipython3",
   "version": "3.12.3"
  }
 },
 "nbformat": 4,
 "nbformat_minor": 2
}
