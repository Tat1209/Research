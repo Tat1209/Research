{
 "cells": [
  {
   "cell_type": "code",
   "execution_count": 184,
   "metadata": {},
   "outputs": [],
   "source": [
    "import polars as pl\n",
    "import numpy as np\n",
    "from pathlib import Path\n",
    "import matplotlib.pyplot as plt\n",
    "import seaborn as sns\n",
    "\n",
    "import sys\n",
    "work_path = Path(next((p for p in Path(\"__file__\").resolve().parents if p.name == \"Research\"), None))\n",
    "torchlib_path = str(work_path / Path(\"app/torch_libs\"))\n",
    "sys.path.append(torchlib_path)\n",
    "\n",
    "from run_manager import RunManager, RunsManager, RunViewer\n"
   ]
  },
  {
   "cell_type": "code",
   "execution_count": 185,
   "metadata": {},
   "outputs": [],
   "source": [
    "nb_path = Path().resolve()\n",
    "# rm = RunManager(exp_path=nb_path)\n",
    "# rm.ref_stats()\n",
    "rv = RunViewer(exp_path=nb_path)\n",
    "df_base = rv.fetch_results()\n",
    "\n",
    "pass\n"
   ]
  },
  {
   "cell_type": "code",
   "execution_count": 186,
   "metadata": {},
   "outputs": [
    {
     "ename": "ColumnNotFoundError",
     "evalue": "\"rand_str\" not found",
     "output_type": "error",
     "traceback": [
      "\u001b[0;31m---------------------------------------------------------------------------\u001b[0m",
      "\u001b[0;31mColumnNotFoundError\u001b[0m                       Traceback (most recent call last)",
      "Cell \u001b[0;32mIn[186], line 7\u001b[0m\n\u001b[1;32m      4\u001b[0m cols \u001b[38;5;241m=\u001b[39m [\u001b[38;5;124m\"\u001b[39m\u001b[38;5;124mclassdist\u001b[39m\u001b[38;5;124m\"\u001b[39m, \u001b[38;5;124m\"\u001b[39m\u001b[38;5;124mrand_str\u001b[39m\u001b[38;5;124m\"\u001b[39m]\n\u001b[1;32m      5\u001b[0m \u001b[38;5;66;03m# cols = [\"train_dataset\", \"train_num\", \"classdist\"]\u001b[39;00m\n\u001b[0;32m----> 7\u001b[0m df_uq \u001b[38;5;241m=\u001b[39m \u001b[43mdf_res\u001b[49m\u001b[38;5;241;43m.\u001b[39;49m\u001b[43munique\u001b[49m\u001b[43m(\u001b[49m\u001b[43mcols\u001b[49m\u001b[43m,\u001b[49m\u001b[43m \u001b[49m\u001b[43mmaintain_order\u001b[49m\u001b[38;5;241;43m=\u001b[39;49m\u001b[38;5;28;43;01mTrue\u001b[39;49;00m\u001b[43m)\u001b[49m\u001b[38;5;241m.\u001b[39mselect(cols)\n\u001b[1;32m      9\u001b[0m df_res_mf \u001b[38;5;241m=\u001b[39m \u001b[38;5;28;01mNone\u001b[39;00m\n\u001b[1;32m     11\u001b[0m \u001b[38;5;28;01mfor\u001b[39;00m cond \u001b[38;5;129;01min\u001b[39;00m df_uq\u001b[38;5;241m.\u001b[39miter_rows(named\u001b[38;5;241m=\u001b[39m\u001b[38;5;28;01mTrue\u001b[39;00m):\n",
      "File \u001b[0;32m~/miniconda3/envs/tat/lib/python3.12/site-packages/polars/dataframe/frame.py:9797\u001b[0m, in \u001b[0;36mDataFrame.unique\u001b[0;34m(self, subset, keep, maintain_order)\u001b[0m\n\u001b[1;32m   9709\u001b[0m \u001b[38;5;28;01mdef\u001b[39;00m \u001b[38;5;21munique\u001b[39m(\n\u001b[1;32m   9710\u001b[0m     \u001b[38;5;28mself\u001b[39m,\n\u001b[1;32m   9711\u001b[0m     subset: ColumnNameOrSelector \u001b[38;5;241m|\u001b[39m Collection[ColumnNameOrSelector] \u001b[38;5;241m|\u001b[39m \u001b[38;5;28;01mNone\u001b[39;00m \u001b[38;5;241m=\u001b[39m \u001b[38;5;28;01mNone\u001b[39;00m,\n\u001b[0;32m   (...)\u001b[0m\n\u001b[1;32m   9714\u001b[0m     maintain_order: \u001b[38;5;28mbool\u001b[39m \u001b[38;5;241m=\u001b[39m \u001b[38;5;28;01mFalse\u001b[39;00m,\n\u001b[1;32m   9715\u001b[0m ) \u001b[38;5;241m-\u001b[39m\u001b[38;5;241m>\u001b[39m DataFrame:\n\u001b[1;32m   9716\u001b[0m \u001b[38;5;250m    \u001b[39m\u001b[38;5;124;03m\"\"\"\u001b[39;00m\n\u001b[1;32m   9717\u001b[0m \u001b[38;5;124;03m    Drop duplicate rows from this dataframe.\u001b[39;00m\n\u001b[1;32m   9718\u001b[0m \n\u001b[0;32m   (...)\u001b[0m\n\u001b[1;32m   9792\u001b[0m \u001b[38;5;124;03m    └─────┴─────┴─────┘\u001b[39;00m\n\u001b[1;32m   9793\u001b[0m \u001b[38;5;124;03m    \"\"\"\u001b[39;00m\n\u001b[1;32m   9794\u001b[0m     \u001b[38;5;28;01mreturn\u001b[39;00m (\n\u001b[1;32m   9795\u001b[0m         \u001b[38;5;28;43mself\u001b[39;49m\u001b[38;5;241;43m.\u001b[39;49m\u001b[43mlazy\u001b[49m\u001b[43m(\u001b[49m\u001b[43m)\u001b[49m\n\u001b[1;32m   9796\u001b[0m \u001b[43m        \u001b[49m\u001b[38;5;241;43m.\u001b[39;49m\u001b[43munique\u001b[49m\u001b[43m(\u001b[49m\u001b[43msubset\u001b[49m\u001b[38;5;241;43m=\u001b[39;49m\u001b[43msubset\u001b[49m\u001b[43m,\u001b[49m\u001b[43m \u001b[49m\u001b[43mkeep\u001b[49m\u001b[38;5;241;43m=\u001b[39;49m\u001b[43mkeep\u001b[49m\u001b[43m,\u001b[49m\u001b[43m \u001b[49m\u001b[43mmaintain_order\u001b[49m\u001b[38;5;241;43m=\u001b[39;49m\u001b[43mmaintain_order\u001b[49m\u001b[43m)\u001b[49m\n\u001b[0;32m-> 9797\u001b[0m \u001b[43m        \u001b[49m\u001b[38;5;241;43m.\u001b[39;49m\u001b[43mcollect\u001b[49m\u001b[43m(\u001b[49m\u001b[43m_eager\u001b[49m\u001b[38;5;241;43m=\u001b[39;49m\u001b[38;5;28;43;01mTrue\u001b[39;49;00m\u001b[43m)\u001b[49m\n\u001b[1;32m   9798\u001b[0m     )\n",
      "File \u001b[0;32m~/miniconda3/envs/tat/lib/python3.12/site-packages/polars/lazyframe/frame.py:2053\u001b[0m, in \u001b[0;36mLazyFrame.collect\u001b[0;34m(self, type_coercion, predicate_pushdown, projection_pushdown, simplify_expression, slice_pushdown, comm_subplan_elim, comm_subexpr_elim, cluster_with_columns, collapse_joins, no_optimization, streaming, engine, background, _eager, **_kwargs)\u001b[0m\n\u001b[1;32m   2051\u001b[0m \u001b[38;5;66;03m# Only for testing purposes\u001b[39;00m\n\u001b[1;32m   2052\u001b[0m callback \u001b[38;5;241m=\u001b[39m _kwargs\u001b[38;5;241m.\u001b[39mget(\u001b[38;5;124m\"\u001b[39m\u001b[38;5;124mpost_opt_callback\u001b[39m\u001b[38;5;124m\"\u001b[39m, callback)\n\u001b[0;32m-> 2053\u001b[0m \u001b[38;5;28;01mreturn\u001b[39;00m wrap_df(\u001b[43mldf\u001b[49m\u001b[38;5;241;43m.\u001b[39;49m\u001b[43mcollect\u001b[49m\u001b[43m(\u001b[49m\u001b[43mcallback\u001b[49m\u001b[43m)\u001b[49m)\n",
      "\u001b[0;31mColumnNotFoundError\u001b[0m: \"rand_str\" not found"
     ]
    }
   ],
   "source": [
    "df_res = df_base\n",
    "df_res = df_res.filter(pl.col(\"run_id\") < 150)\n",
    "\n",
    "cols = [\"classdist\", \"rand_str\"]\n",
    "# cols = [\"train_dataset\", \"train_num\", \"classdist\"]\n",
    "\n",
    "df_uq = df_res.unique(cols, maintain_order=True).select(cols)\n",
    "\n",
    "df_res_mf = None\n",
    "\n",
    "for cond in df_uq.iter_rows(named=True):\n",
    "    df_cond = df_res\n",
    "    for k, v in cond.items():\n",
    "        df_cond = df_cond.filter(pl.col(k) == v)\n",
    "    \n",
    "    max_fil = df_cond[\"fils\"].max()\n",
    "    # min_fil = df_cond[\"fils\"].min()\n",
    "    max_fil_vacc = df_cond.filter(pl.col(\"fils\") == max_fil)[\"val_acc\"].mean()\n",
    "    \n",
    "    df_cond = df_cond.with_columns(pl.lit(max_fil_vacc).alias(\"val_acc_mf\"))\n",
    "    \n",
    "    if df_res_mf is None:\n",
    "        df_res_mf = df_cond\n",
    "    else:\n",
    "        df_res_mf = pl.concat([df_res_mf, df_cond], how=\"vertical\")\n",
    "        \n",
    "\n",
    "\n",
    "df_res_mf = df_res_mf.with_columns((pl.col(\"val_acc\") - pl.col(\"val_acc_mf\")).alias(\"mf_diff\"))\n",
    "# df_res_mf = df_res_mf.with_columns((pl.col(\"val_acc\") / pl.col(\"val_acc_mf\")).alias(\"mf_diff\") - 1)\n",
    "    \n",
    "# df_res_mf = df_res_mf[:402]\n",
    "\n",
    "\n",
    "with pl.Config() as cfg:\n",
    "    cfg.set_tbl_rows(-1)\n",
    "    cfg.set_tbl_cols(-1)\n",
    "    display(df_res_mf)\n",
    "\n"
   ]
  },
  {
   "cell_type": "code",
   "execution_count": 169,
   "metadata": {},
   "outputs": [
    {
     "data": {
      "text/plain": [
       "array([[1.        , 0.67844212],\n",
       "       [0.67844212, 1.        ]])"
      ]
     },
     "execution_count": 169,
     "metadata": {},
     "output_type": "execute_result"
    },
    {
     "data": {
      "image/png": "[encoded data removed]",
      "text/plain": [
       "<Figure size 640x480 with 1 Axes>"
      ]
     },
     "metadata": {},
     "output_type": "display_data"
    }
   ],
   "source": [
    "df_res_mf = df_res_mf.filter(pl.col(\"fils\") == 1)\n",
    "\n",
    "df_res_f1_b = df_res_mf\n",
    "\n",
    "# df_res_mf = df_res_mf.filter(pl.col(\"train_num\") == 1000)\n",
    "df_res_mf = df_res_mf.sort(\"val_acc\", descending=True)\n",
    "\n",
    "df_res_f1 = df_res_f1_b.sort(\"val_acc\", descending=True)\n",
    "\n",
    "fig, ax = plt.subplots()\n",
    "\n",
    "# ext_col = \"train_num\"\n",
    "ext_col = \"train_dataset\"\n",
    "x_col = \"val_acc\"\n",
    "# x_col = \"classdist\"\n",
    "# y_col = \"mf_diff\"\n",
    "y_col = \"classdist\"\n",
    "\n",
    "for ds in df_res_f1[ext_col].unique(maintain_order=True):\n",
    "    df_res_ft = df_res_f1.filter(pl.col(ext_col) == ds)\n",
    "    x = df_res_ft[x_col]\n",
    "    y = df_res_ft[y_col]\n",
    "\n",
    "    ax.scatter(x, y, label=ds[:-6])\n",
    "\n",
    "ax.set_xlabel(x_col)\n",
    "# ax.set_ylabel(\"val_acc (1fil) - val_acc (32fil)\")\n",
    "ax.grid()\n",
    "fig.legend()\n",
    "fig.show()\n",
    "\n",
    "np.corrcoef(x, y)\n",
    "\n"
   ]
  },
  {
   "cell_type": "code",
   "execution_count": null,
   "metadata": {},
   "outputs": [],
   "source": []
  }
 ],
 "metadata": {
  "kernelspec": {
   "display_name": "tat_fish",
   "language": "python",
   "name": "python3"
  },
  "language_info": {
   "codemirror_mode": {
    "name": "ipython",
    "version": 3
   },
   "file_extension": ".py",
   "mimetype": "text/x-python",
   "name": "python",
   "nbconvert_exporter": "python",
   "pygments_lexer": "ipython3",
   "version": "3.12.3"
  }
 },
 "nbformat": 4,
 "nbformat_minor": 2
}
